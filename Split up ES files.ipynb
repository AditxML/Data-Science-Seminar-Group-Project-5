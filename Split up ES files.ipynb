{
 "cells": [
  {
   "cell_type": "markdown",
   "id": "281b3c39",
   "metadata": {},
   "source": [
    "Split up the ES files to make them small enough for Github (5 files should be enough)"
   ]
  },
  {
   "cell_type": "code",
   "execution_count": null,
   "id": "42541716",
   "metadata": {},
   "outputs": [],
   "source": [
    "import pandas as pd \n",
    "\n",
    "# get the ES.csv file and split up into 5 files\n",
    "df = pd.read_csv('ES.csv')\n",
    "\n",
    "# Drop rows High Low Volume and Tick Count\n",
    "df = df.drop(columns=['High', 'Low', 'Tick Count'])\n",
    "\n",
    "# split the dataframe into 5 equal parts\n",
    "num_rows = len(df)\n",
    "split_size = num_rows // 5\n",
    "dfs = [df.iloc[i:i + split_size] for i in range(0, num_rows, split_size)]\n",
    "\n",
    "# save each part to a new CSV file\n",
    "for i, part in enumerate(dfs):\n",
    "    part.to_csv(f'ES_part_{i + 1}.csv', index=False)\n",
    "\n",
    "# print the number of rows in each part\n",
    "for i, part in enumerate(dfs):\n",
    "    print(f'Part {i + 1} has {len(part)} rows.')"
   ]
  }
 ],
 "metadata": {
  "kernelspec": {
   "display_name": "Python 3",
   "language": "python",
   "name": "python3"
  },
  "language_info": {
   "codemirror_mode": {
    "name": "ipython",
    "version": 3
   },
   "file_extension": ".py",
   "mimetype": "text/x-python",
   "name": "python",
   "nbconvert_exporter": "python",
   "pygments_lexer": "ipython3",
   "version": "3.11.1"
  }
 },
 "nbformat": 4,
 "nbformat_minor": 5
}
